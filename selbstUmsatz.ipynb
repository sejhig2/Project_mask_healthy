{
  "nbformat": 4,
  "nbformat_minor": 0,
  "metadata": {
    "colab": {
      "name": "selbstUmsatz.ipynb",
      "private_outputs": true,
      "provenance": [],
      "collapsed_sections": [],
      "authorship_tag": "ABX9TyNWkE5GTdP8yr3uJMPOKa57",
      "include_colab_link": true
    },
    "kernelspec": {
      "name": "python3",
      "display_name": "Python 3"
    },
    "language_info": {
      "name": "python"
    }
  },
  "cells": [
    {
      "cell_type": "markdown",
      "metadata": {
        "id": "view-in-github",
        "colab_type": "text"
      },
      "source": [
        "<a href=\"https://colab.research.google.com/github/sejhig2/Project_mask_healthy/blob/main/selbstUmsatz.ipynb\" target=\"_parent\"><img src=\"https://colab.research.google.com/assets/colab-badge.svg\" alt=\"Open In Colab\"/></a>"
      ]
    },
    {
      "cell_type": "code",
      "metadata": {
        "id": "e58NQx6Y3_Mw"
      },
      "source": [
        "from google.colab import drive\n",
        "drive.mount(\"/content/gdrive\")"
      ],
      "execution_count": null,
      "outputs": []
    },
    {
      "cell_type": "code",
      "metadata": {
        "id": "wP0LsAI14DC_"
      },
      "source": [
        "def sizeCheck(img_path):\n",
        "    from PIL import Image\n",
        "    image = Image.open(img_path)\n",
        "    image_size = image.size\n",
        "    xL = image_size[0]\n",
        "    yL = image_size[1]\n",
        "    print(\"가로:\",xL,\"세로:\",yL )\n",
        "    return xL, yL\n",
        "# img_path = \"/content/gdrive/MyDrive/Project_mask/mask_data/Medical Mask/images/0001.jpg\"\n",
        "# sizeCheck(img_path)"
      ],
      "execution_count": null,
      "outputs": []
    },
    {
      "cell_type": "code",
      "metadata": {
        "id": "Z0RiUPix-_1s"
      },
      "source": [
        "# 한 장에 들어 있는 annotation 개수 확인\n",
        "def check_annNum(voc_path):\n",
        "    import json\n",
        "    with open(voc_path) as json_file:\n",
        "        voc_info = json.load(json_file)\n",
        "        ann_list = voc_info[\"Annotations\"]\n",
        "        annNum = len(ann_list)\n",
        "    return annNum\n",
        "\n",
        "voc_path = \"/content/gdrive/MyDrive/Project_mask/mask_data/Medical Mask/labels/1805.jpg.json\"\n",
        "print(check_annNum(voc_path))"
      ],
      "execution_count": null,
      "outputs": []
    },
    {
      "cell_type": "code",
      "metadata": {
        "id": "ZnEDnpSI4D4K"
      },
      "source": [
        "# 라밸 이름-> 라밸 순번 추출\n",
        "def LabelN(LabelName):\n",
        "    if LabelName == \"hijab_niqab\" : LabelNum = 0\n",
        "    elif LabelName == \"mask_colorful\" : LabelNum = 1\n",
        "    elif LabelName == \"mask_surgical\" : LabelNum = 2\n",
        "    elif LabelName == \"face_no_mask\" : LabelNum = 3\n",
        "    elif LabelName == \"face_with_mask_incorrect\" : LabelNum = 4\n",
        "    elif LabelName == \"face_with_mask\" : LabelNum = 5\n",
        "    elif LabelName == \"face_other_covering\" : LabelNum = 6\n",
        "    elif LabelName == \"scarf_bandana\" : LabelNum = 7\n",
        "    elif LabelName == \"balaclava_ski_mask\" : LabelNum = 8\n",
        "    elif LabelName == \"face_shield\" : LabelNum = 9\n",
        "    elif LabelName == \"other\" : LabelNum = 10\n",
        "    elif LabelName == \"gas_mask\" : LabelNum = 11\n",
        "    elif LabelName == \"turban\" : LabelNum = 12\n",
        "    elif LabelName == \"helmet\" : LabelNum = 13\n",
        "    elif LabelName == \"sunglasses\" : LabelNum = 14\n",
        "    elif LabelName == \"eyeglasses\" : LabelNum = 15\n",
        "    elif LabelName == \"hair_net\" : LabelNum = 16\n",
        "    elif LabelName == \"hat\" : LabelNum = 17\n",
        "    elif LabelName == \"goggles\" : LabelNum = 18\n",
        "    elif LabelName == \"hood\" : LabelNum = 19\n",
        "    return LabelNum"
      ],
      "execution_count": null,
      "outputs": []
    },
    {
      "cell_type": "code",
      "metadata": {
        "id": "WAeFEsmz4Eh6"
      },
      "source": [
        "# pascal voc 에서 x,y값들과 label을 가져오자\n",
        "# check_annNum의 출력값을 가져와서 num으로 받을거다.\n",
        "def xmin_ymaxFromVOC(voc_path,num):\n",
        "    import json\n",
        "    with open(voc_path) as json_file:\n",
        "        voc_info = json.load(json_file)\n",
        "    print(voc_info[\"FileName\"])\n",
        "    ann_num = num\n",
        "    BoundingBox = voc_info[\"Annotations\"][ann_num]\n",
        "    BoundingBox = BoundingBox[\"BoundingBox\"]\n",
        "    x_min = BoundingBox[0]\n",
        "    y_min = BoundingBox[1]\n",
        "    x_max = BoundingBox[2]\n",
        "    y_max = BoundingBox[3]\n",
        "    Label = voc_info[\"Annotations\"][ann_num]\n",
        "    LabelName = Label[\"classname\"]\n",
        "    LabelNum = LabelN(LabelName)\n",
        "    print(\"x_min:\",x_min)\n",
        "    print(\"y_min:\",y_min)\n",
        "    print(\"x_max:\",x_max)\n",
        "    print(\"y_max:\",y_max)\n",
        "    print(\"LabelName:\",LabelName, \" LabelNumber:\",LabelNum)\n",
        "    return x_min, y_min, x_max, y_max, LabelName, LabelNum\n",
        "voc_path = \"/content/gdrive/MyDrive/Project_mask/mask_data/Medical Mask/labels/1805.jpg.json\"\n",
        "\n",
        "empty_list = []\n",
        "for i in range(check_annNum(voc_path)):\n",
        "    element = xmin_ymaxFromVOC(voc_path,i)\n",
        "    empty_list.append(element)\n",
        "print(\"annotation list :\",empty_list)\n"
      ],
      "execution_count": null,
      "outputs": []
    },
    {
      "cell_type": "code",
      "metadata": {
        "id": "yafRCrYR4Fkq"
      },
      "source": [
        "# pascal 형식을 yolo에 맞게 변경\n",
        "def sizeConvert(xL,yL,x_min, y_min, x_max, y_max):\n",
        "    x = ((x_max + x_min)/2)/xL\n",
        "    y = ((y_max + y_min)/2)/yL\n",
        "    width = (x_max - x_min)/xL\n",
        "    height = (y_max - y_min)/yL\n",
        "    return x, y, width, height"
      ],
      "execution_count": null,
      "outputs": []
    },
    {
      "cell_type": "markdown",
      "metadata": {
        "id": "Hf0xOCBy4Giw"
      },
      "source": [
        "- test"
      ]
    },
    {
      "cell_type": "code",
      "metadata": {
        "id": "9wVBKRfU4iRm"
      },
      "source": [
        "# 폴더 명 바꿔주기\n",
        "\n",
        "\n",
        "def folder_nameChange(pascal_voc_path):   \n",
        "    pascal_voc_path\n",
        "\n",
        "    img_folder_name = \"images\"\n",
        "    img_path = pascal_voc_path.replace(\"labels\",img_folder_name,1)\n",
        "    img_path = img_path.replace(\".json\",\"\",1)\n",
        "\n",
        "    new_annotation_folder_name = \"annotation_txt\"\n",
        "    txtFile_save_path = pascal_voc_path.replace(\"labels\",new_annotation_folder_name,1)\n",
        "    txtFile_save_path = txtFile_save_path.replace(\"json\",\"txt\",1)\n",
        "\n",
        "    return img_path, pascal_voc_path, txtFile_save_path\n",
        "\n",
        "# 코드 테스트\n",
        "pascal_voc_path = \"/content/gdrive/MyDrive/Project_mask/mask_data/Medical Mask/labels/1805.jpg.json\"\n",
        "folder_nameChange(pascal_voc_path)"
      ],
      "execution_count": null,
      "outputs": []
    },
    {
      "cell_type": "code",
      "metadata": {
        "id": "UF2sYUyA4Hx4"
      },
      "source": [
        "# 위에 함수를 종합해서 파일을 만들어 주는 함수.\n",
        "def makeFile(img_path,Pascal_voc_path,save_path) : \n",
        "    xL, yL = sizeCheck(img_path)\n",
        "\n",
        "    empty_list = []\n",
        "    for i in range(check_annNum(Pascal_voc_path)):\n",
        "        x_min, y_min, x_max, y_max, LabelName, LabelNum = xmin_ymaxFromVOC(Pascal_voc_path,i)\n",
        "        x, y, width, height = sizeConvert(xL,yL,x_min, y_min, x_max, y_max)\n",
        "        empty_list.append([LabelNum, x, y, width, height])\n",
        "    print(\"annotation list :\",empty_list)\n",
        "\n",
        "    for i in range(len(empty_list)):\n",
        "        with open(save_path,\"a\") as f :\n",
        "            print(empty_list)\n",
        "            f.write(str(empty_list[i])+\"\\n\")\n",
        "    return empty_list\n",
        "\n",
        "# 코드 테스트\n",
        "voc_path = \"/content/gdrive/MyDrive/Project_mask/mask_data/Medical Mask/labels/1805.jpg.json\" # json 파일 리스트로 해서 가져올 거다. 지금은 샘플로 하나만.\n",
        "img_path, pascal_voc_path, txtFile_save_path = folder_nameChange(voc_path)\n",
        "print(img_path,\"\\n\", pascal_voc_path,\"\\n\", txtFile_save_path)\n"
      ],
      "execution_count": null,
      "outputs": []
    },
    {
      "cell_type": "code",
      "metadata": {
        "id": "hyMv2TjSaIhv"
      },
      "source": [
        "from glob import glob \n",
        "pascal_voc_path_list = glob(\"/content/gdrive/MyDrive/Project_mask/mask_data/Medical Mask/labels/*\")\n",
        "print(len(pascal_voc_path_list))\n",
        "\n",
        "for i in pascal_voc_path_list:\n",
        "    pascal_voc_path = i\n",
        "    img_path, pascal_voc_path, txtFile_save_path = folder_nameChange(pascal_voc_path)\n",
        "    try:\n",
        "        makeFile(img_path, pascal_voc_path, txtFile_save_path)\n",
        "    except :\n",
        "        print(\"error:\",img_path, pascal_voc_path, txtFile_save_path)"
      ],
      "execution_count": null,
      "outputs": []
    },
    {
      "cell_type": "code",
      "metadata": {
        "id": "NMfmRe0K4P1q"
      },
      "source": [
        ""
      ],
      "execution_count": null,
      "outputs": []
    },
    {
      "cell_type": "code",
      "metadata": {
        "id": "jTnTJlkY5hqC"
      },
      "source": [
        ""
      ],
      "execution_count": null,
      "outputs": []
    },
    {
      "cell_type": "code",
      "metadata": {
        "id": "5-pRLeeJDb6n"
      },
      "source": [
        ""
      ],
      "execution_count": null,
      "outputs": []
    },
    {
      "cell_type": "code",
      "metadata": {
        "id": "ICD_SNBH86uJ"
      },
      "source": [
        ""
      ],
      "execution_count": null,
      "outputs": []
    },
    {
      "cell_type": "code",
      "metadata": {
        "id": "RL_Gt_bCYcgN"
      },
      "source": [
        ""
      ],
      "execution_count": null,
      "outputs": []
    }
  ]
}