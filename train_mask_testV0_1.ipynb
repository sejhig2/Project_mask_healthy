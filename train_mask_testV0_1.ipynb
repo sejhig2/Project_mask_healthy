{
  "nbformat": 4,
  "nbformat_minor": 0,
  "metadata": {
    "colab": {
      "name": "train_mask_testV0.1.ipynb",
      "private_outputs": true,
      "provenance": [],
      "authorship_tag": "ABX9TyN6BQ6iuXYERxF4rQL6HPMm",
      "include_colab_link": true
    },
    "kernelspec": {
      "name": "python3",
      "display_name": "Python 3"
    }
  },
  "cells": [
    {
      "cell_type": "markdown",
      "metadata": {
        "id": "view-in-github",
        "colab_type": "text"
      },
      "source": [
        "<a href=\"https://colab.research.google.com/github/sejhig2/Project_mask_healthy/blob/main/train_mask_testV0_1.ipynb\" target=\"_parent\"><img src=\"https://colab.research.google.com/assets/colab-badge.svg\" alt=\"Open In Colab\"/></a>"
      ]
    },
    {
      "cell_type": "code",
      "metadata": {
        "id": "KvI3gzdjl5Wu"
      },
      "source": [
        "!curl -L \"https://public.roboflow.com/ds/73ZcgWETKB?key=zOsEKbiqhL\" > roboflow.zip; unzip roboflow.zip; rm roboflow.zip"
      ],
      "execution_count": null,
      "outputs": []
    },
    {
      "cell_type": "code",
      "metadata": {
        "id": "7sqID-L8mHNF"
      },
      "source": [
        "%cd /content\r\n",
        "!git clone https://github.com/ultralytics/yolov5.git"
      ],
      "execution_count": null,
      "outputs": []
    },
    {
      "cell_type": "code",
      "metadata": {
        "id": "Q3Ohrw9XmOal"
      },
      "source": [
        "%cd /content/yolov5/\r\n",
        "!pip install -r requirements.txt"
      ],
      "execution_count": null,
      "outputs": []
    },
    {
      "cell_type": "code",
      "metadata": {
        "id": "79tUdTSsmRVE"
      },
      "source": [
        "%cat /content/dataset/data.yaml"
      ],
      "execution_count": null,
      "outputs": []
    },
    {
      "cell_type": "code",
      "metadata": {
        "id": "52RjiA3VmTK3"
      },
      "source": [
        "%cd /\r\n",
        "\r\n",
        "# 모든 이미지를 가져온다.\r\n",
        "from glob import glob\r\n",
        "img_list = glob(\"/content/dataset/export/images/*.jpg\")\r\n",
        "\r\n",
        "print(\"가져온 이미지의 총 수 : \",len(img_list))"
      ],
      "execution_count": null,
      "outputs": []
    },
    {
      "cell_type": "code",
      "metadata": {
        "id": "Kz4ylO4MmWEP"
      },
      "source": [
        "from sklearn.model_selection import train_test_split\r\n",
        "\r\n",
        "train_img_list, val_img_list = train_test_split( img_list, test_size = 0.2 , random_state=2000 )\r\n",
        "\r\n",
        "print(\"훈련 데이터의 수 : \",len(train_img_list),\"검증 데이터의 수 :\",len(val_img_list) )"
      ],
      "execution_count": null,
      "outputs": []
    },
    {
      "cell_type": "code",
      "metadata": {
        "id": "C2MKM0VFmYCD"
      },
      "source": [
        "with open('/content/dataset/train.txt','w') as f:\r\n",
        "    f.write('\\n'.join(train_img_list)+'\\n')\r\n",
        "with open('/content/dataset/val.txt','w') as f:\r\n",
        "    f.write('\\n'.join(val_img_list) +'\\n')"
      ],
      "execution_count": null,
      "outputs": []
    },
    {
      "cell_type": "code",
      "metadata": {
        "id": "jqnMRxKJmZ-X"
      },
      "source": [
        "import yaml\r\n",
        "\r\n",
        "with open(\"/content/dataset/data.yaml\", 'r') as f :\r\n",
        "    data = yaml.load(f)\r\n",
        "\r\n",
        "print(data)\r\n",
        "\r\n",
        "data['train'] = '/content/dataset/train.txt'\r\n",
        "data['val'] = '/content/dataset/val.txt'\r\n",
        "\r\n",
        "with open(\"/content/dataset/data.yaml\", 'w') as f :\r\n",
        "    yaml.dump(data, f )\r\n",
        "\r\n",
        "print(data)"
      ],
      "execution_count": null,
      "outputs": []
    },
    {
      "cell_type": "code",
      "metadata": {
        "id": "U_B1fy3VmeoC"
      },
      "source": [
        "%cd /content/yolov5/\r\n",
        "!python train.py --img 416 --batch 16 --epochs 2 --data /content/dataset/data.yaml --cfg ./models/yolov5s.yaml --weights yolov5s.pt --name mask_yolov5s_results"
      ],
      "execution_count": null,
      "outputs": []
    },
    {
      "cell_type": "code",
      "metadata": {
        "id": "x_JM0mEMmivu"
      },
      "source": [
        "%load_ext tensorboard\r\n",
        "%tensorboard --logdir /content/yolov5/runs/"
      ],
      "execution_count": null,
      "outputs": []
    }
  ]
}