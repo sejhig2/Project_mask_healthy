{
  "nbformat": 4,
  "nbformat_minor": 0,
  "metadata": {
    "colab": {
      "name": "jsonTOtxtFORyolo.ipynb",
      "private_outputs": true,
      "provenance": [],
      "collapsed_sections": [],
      "mount_file_id": "1_e0THZe8Z4VIqEI_Hg1qilrCba-JJW8-",
      "authorship_tag": "ABX9TyPOI8S/teyE1+6l1iKLqZyZ",
      "include_colab_link": true
    },
    "kernelspec": {
      "name": "python3",
      "display_name": "Python 3"
    },
    "language_info": {
      "name": "python"
    }
  },
  "cells": [
    {
      "cell_type": "markdown",
      "metadata": {
        "id": "view-in-github",
        "colab_type": "text"
      },
      "source": [
        "<a href=\"https://colab.research.google.com/github/sejhig2/Project_mask_healthy/blob/main/jsonTOtxtFORyolo.ipynb\" target=\"_parent\"><img src=\"https://colab.research.google.com/assets/colab-badge.svg\" alt=\"Open In Colab\"/></a>"
      ]
    },
    {
      "cell_type": "code",
      "metadata": {
        "id": "weWHTjnFauny"
      },
      "source": [
        "from google.colab import drive\n",
        "drive.mount(\"/gdrive\", force_remount= True)"
      ],
      "execution_count": null,
      "outputs": []
    },
    {
      "cell_type": "code",
      "metadata": {
        "id": "4DBFfQZGduR1"
      },
      "source": [
        "!git clone https://bitbucket.org/yymoto/coco-to-yolo.git"
      ],
      "execution_count": null,
      "outputs": []
    },
    {
      "cell_type": "code",
      "metadata": {
        "id": "yAvwpUvve-xG"
      },
      "source": [
        "!git clone https://github.com/ultralytics/yolov5.git"
      ],
      "execution_count": null,
      "outputs": []
    },
    {
      "cell_type": "code",
      "metadata": {
        "id": "dkjB5CRGfVPD"
      },
      "source": [
        "%cd yolov5\n",
        "!pip install -r requirements.txt"
      ],
      "execution_count": null,
      "outputs": []
    },
    {
      "cell_type": "markdown",
      "metadata": {
        "id": "AipnfiUlivji"
      },
      "source": [
        "- 이미지파일의 경로를 모아둔 txt파일이 필요하다"
      ]
    },
    {
      "cell_type": "code",
      "metadata": {
        "id": "XEGkCEk1fcs9"
      },
      "source": [
        "# 이미지 가져오기\n",
        "%cd /\n",
        "from glob import glob\n",
        "#img_list = glob(\"/content/drive/MyDrive/Project/Mask/mask_data/Medical mask/Medical mask/Medical Mask/images/*.jpg\")\n",
        "img_list = glob(\"/content/drive/MyDrive/Project/Mask/mask_data/Medical mask/Medical mask/Medical Mask/images/*\")\n",
        "print(len(img_list))"
      ],
      "execution_count": null,
      "outputs": []
    },
    {
      "cell_type": "markdown",
      "metadata": {
        "id": "2Bg5VeklkuCo"
      },
      "source": [
        "위 코드 실행시 사진이 3천개 정도인 이유는 jpg format의 이미지만 불러왔기 때문이다. png파일도 3천 개 정도 있다."
      ]
    },
    {
      "cell_type": "code",
      "metadata": {
        "id": "L3iBGeI7kKJs"
      },
      "source": [
        "from sklearn.model_selection import train_test_split\n",
        "train_img_list, val_img_list = train_test_split( img_list, test_size = 0.1)\n",
        "print(train_img_list)\n",
        "print(\"훈련 데이터의 수 : \",len(train_img_list),\"\\n검증 데이터의 수 :\",len(val_img_list) )"
      ],
      "execution_count": null,
      "outputs": []
    },
    {
      "cell_type": "code",
      "metadata": {
        "id": "GmxpTJUClIlZ"
      },
      "source": [
        "with open(\"/content/drive/MyDrive/Project/Mask/mask_data/Medical mask/Medical mask/Medical Mask/train.txt\", 'w') as f :\n",
        "    f.write(\"\\n\".join(train_img_list)+'\\n')\n",
        "\n",
        "with open(\"/content/drive/MyDrive/Project/Mask/mask_data/Medical mask/Medical mask/Medical Mask/val.txt\", 'w') as f :\n",
        "    f.write(\"\\n\".join(train_img_list)+'\\n')"
      ],
      "execution_count": null,
      "outputs": []
    },
    {
      "cell_type": "code",
      "metadata": {
        "id": "--Udty4Ml--O"
      },
      "source": [
        ""
      ],
      "execution_count": null,
      "outputs": []
    }
  ]
}