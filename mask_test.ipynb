{
  "nbformat": 4,
  "nbformat_minor": 0,
  "metadata": {
    "colab": {
      "name": "mask_test.ipynb",
      "private_outputs": true,
      "provenance": [],
      "authorship_tag": "ABX9TyMC9FKWFN4C3a86zi8UM7iF",
      "include_colab_link": true
    },
    "kernelspec": {
      "name": "python3",
      "display_name": "Python 3"
    },
    "accelerator": "GPU"
  },
  "cells": [
    {
      "cell_type": "markdown",
      "metadata": {
        "id": "view-in-github",
        "colab_type": "text"
      },
      "source": [
        "<a href=\"https://colab.research.google.com/github/sejhig2/Project_mask_healthy/blob/main/mask_test.ipynb\" target=\"_parent\"><img src=\"https://colab.research.google.com/assets/colab-badge.svg\" alt=\"Open In Colab\"/></a>"
      ]
    },
    {
      "cell_type": "code",
      "metadata": {
        "id": "elRf4rDZKaf-"
      },
      "source": [
        "!curl -L \"https://public.roboflow.com/ds/73ZcgWETKB?key=zOsEKbiqhL\" > roboflow.zip; unzip roboflow.zip; rm roboflow.zip\r\n",
        "# 마스크 데이터셋 가져오기"
      ],
      "execution_count": null,
      "outputs": []
    },
    {
      "cell_type": "code",
      "metadata": {
        "id": "zspk2ovRKcMO"
      },
      "source": [
        "%cd /content\r\n",
        "!git clone https://github.com/ultralytics/yolov5.git"
      ],
      "execution_count": null,
      "outputs": []
    },
    {
      "cell_type": "code",
      "metadata": {
        "id": "0swMMAwqqSJ7"
      },
      "source": [
        "%cd /content/yolov5/\r\n",
        "!pip install -r requirements.txt"
      ],
      "execution_count": null,
      "outputs": []
    },
    {
      "cell_type": "code",
      "metadata": {
        "id": "5HFZsfUAsxt9"
      },
      "source": [
        "%cat /content/dataset/data.yaml\r\n",
        "#data.yaml 이 포함하고 있는게 무엇인지 파악해야한다."
      ],
      "execution_count": null,
      "outputs": []
    },
    {
      "cell_type": "code",
      "metadata": {
        "id": "1H15Ojmxs1le"
      },
      "source": [
        "%cd /\r\n",
        "from glob import glob\r\n",
        "\r\n",
        "train_img_list = glob(\"/content/train/images/*.jpg\")\r\n",
        "print(train_img_list)\r\n",
        "\r\n",
        "val_img_list = glob(\"/content/valid/images/*.jpg\")\r\n",
        "print(val_img_list)\r\n",
        "print(len(train_img_list),len(val_img_list))"
      ],
      "execution_count": null,
      "outputs": []
    },
    {
      "cell_type": "code",
      "metadata": {
        "id": "KoXcZMn0A-oB"
      },
      "source": [
        ""
      ],
      "execution_count": null,
      "outputs": []
    },
    {
      "cell_type": "code",
      "metadata": {
        "id": "uWLcfDbBBRpP"
      },
      "source": [
        "with open('/content/dataset/train.txt', 'w') as f:\r\n",
        "  f.write('\\n'.join(train_img_list) + '\\n')\r\n",
        "\r\n",
        "with open('/content/dataset/val.txt', 'w') as f:\r\n",
        "  f.write('\\n'.join(val_img_list) + '\\n')"
      ],
      "execution_count": null,
      "outputs": []
    },
    {
      "cell_type": "code",
      "metadata": {
        "id": "v8nbXDZItvn1"
      },
      "source": [
        "import yaml\r\n",
        "\r\n",
        "with open('/content/dataset/data.yaml', 'r') as f:\r\n",
        "  data = yaml.load(f)\r\n",
        "\r\n",
        "print(data)\r\n",
        "\r\n",
        "data['train'] = '/content/dataset/train.txt'\r\n",
        "data['val'] = '/content/dataset/val.txt'\r\n",
        "\r\n",
        "with open('/content/dataset/data.yaml', 'w') as f:\r\n",
        "  yaml.dump(data, f)\r\n",
        "\r\n",
        "print(data)"
      ],
      "execution_count": null,
      "outputs": []
    },
    {
      "cell_type": "code",
      "metadata": {
        "id": "QzBoZ4vOuXbu"
      },
      "source": [
        "%cd /content/yolov5/\r\n",
        "\r\n",
        "!python train.py --img 416 --batch 16 --epochs 60 --data /content/dataset/data.yaml --cfg ./models/yolov5s.yaml --weights yolov5s.pt --name mask_yolov5s_results"
      ],
      "execution_count": null,
      "outputs": []
    },
    {
      "cell_type": "code",
      "metadata": {
        "id": "4ttwphaauwBw"
      },
      "source": [
        "%load_ext tensorboard\r\n",
        "%tensorboard --logdir /content/yolov5/runs/"
      ],
      "execution_count": null,
      "outputs": []
    },
    {
      "cell_type": "code",
      "metadata": {
        "id": "1O-bLgdtu8eq"
      },
      "source": [
        ""
      ],
      "execution_count": null,
      "outputs": []
    }
  ]
}