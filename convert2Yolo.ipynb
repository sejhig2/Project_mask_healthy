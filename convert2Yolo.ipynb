{
  "nbformat": 4,
  "nbformat_minor": 0,
  "metadata": {
    "colab": {
      "name": "convert2Yolo.ipynb",
      "private_outputs": true,
      "provenance": [],
      "collapsed_sections": [],
      "authorship_tag": "ABX9TyMMKFAc6j8bs3PF/2bovQxX",
      "include_colab_link": true
    },
    "kernelspec": {
      "name": "python3",
      "display_name": "Python 3"
    }
  },
  "cells": [
    {
      "cell_type": "markdown",
      "metadata": {
        "id": "view-in-github",
        "colab_type": "text"
      },
      "source": [
        "<a href=\"https://colab.research.google.com/github/sejhig2/Project_mask_healthy/blob/main/convert2Yolo.ipynb\" target=\"_parent\"><img src=\"https://colab.research.google.com/assets/colab-badge.svg\" alt=\"Open In Colab\"/></a>"
      ]
    },
    {
      "cell_type": "code",
      "metadata": {
        "id": "abKaUIGxhpc9"
      },
      "source": [
        "%cd /content/\n",
        "!mkdir conver2Yolo"
      ],
      "execution_count": null,
      "outputs": []
    },
    {
      "cell_type": "code",
      "metadata": {
        "id": "80u-jWiwYbRn"
      },
      "source": [
        "from google.colab import drive\n",
        "drive.mount(\"/content/drive\")"
      ],
      "execution_count": null,
      "outputs": []
    },
    {
      "cell_type": "code",
      "metadata": {
        "id": "plPP3n0NYmqY"
      },
      "source": [
        "!git init\n",
        "!git remote add origin https://github.com/ssaru/convert2Yolo.git\n",
        "!git pull origin master\n",
        "!pip3 install -r requirements.txt"
      ],
      "execution_count": null,
      "outputs": []
    },
    {
      "cell_type": "markdown",
      "metadata": {
        "id": "t1jdMM_PZAWO"
      },
      "source": [
        "- json format의 lable 가져와서 txt로 변환시켜보자. 실험적으로"
      ]
    },
    {
      "cell_type": "code",
      "metadata": {
        "id": "Vd7gcy-YYoNh"
      },
      "source": [
        "! python3 example.py --datasets COCO --img_path \"/content/drive/MyDrive/Project/Mask/mask_data/Medical Mask/images\" --label \"/content/drive/MyDrive/Project/Mask/mask_data/Medical Mask/annotations/1801.jpg.json\" --convert_output_path \"/content/drive/MyDrive/Project/Mask/mask_data/Medical Mask\" --img_type \".jpg\" --manifest_path \"/content/drive/MyDrive/Project/Mask/mask_data/\" --cls_list_file \"/content/drive/MyDrive/Project/Mask/mask_data/classes.names\""
      ],
      "execution_count": null,
      "outputs": []
    },
    {
      "cell_type": "code",
      "metadata": {
        "id": "K1IymRZQcNsJ"
      },
      "source": [
        ""
      ],
      "execution_count": null,
      "outputs": []
    },
    {
      "cell_type": "code",
      "metadata": {
        "id": "CJl3cBIwEK8G"
      },
      "source": [
        ""
      ],
      "execution_count": null,
      "outputs": []
    }
  ]
}