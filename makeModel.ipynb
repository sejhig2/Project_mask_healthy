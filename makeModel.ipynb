{
  "nbformat": 4,
  "nbformat_minor": 0,
  "metadata": {
    "colab": {
      "name": "makeModel.ipynb",
      "private_outputs": true,
      "provenance": [],
      "collapsed_sections": [],
      "authorship_tag": "ABX9TyMb23rr20LN330/hkaR48Vd",
      "include_colab_link": true
    },
    "kernelspec": {
      "name": "python3",
      "display_name": "Python 3"
    },
    "language_info": {
      "name": "python"
    },
    "accelerator": "GPU"
  },
  "cells": [
    {
      "cell_type": "markdown",
      "metadata": {
        "id": "view-in-github",
        "colab_type": "text"
      },
      "source": [
        "<a href=\"https://colab.research.google.com/github/sejhig2/Project_mask_healthy/blob/main/makeModel.ipynb\" target=\"_parent\"><img src=\"https://colab.research.google.com/assets/colab-badge.svg\" alt=\"Open In Colab\"/></a>"
      ]
    },
    {
      "cell_type": "markdown",
      "metadata": {
        "id": "VNv7nRWpYzQc"
      },
      "source": [
        "### 사용 전 숙지사항\n",
        "- 아래 코드는 colab 에서 작성됐습니다.\n",
        "- 드라이브는 개인 구글 드라이브를 사용해야합니다.\n",
        "- 이미지, label 데이터는 [링크](https://drive.google.com/file/d/1VPGPzV8KrZFKsQJq7jL3ukiKsFzy2Eh8/view?usp=sharing) 걸어놓거나, 압축파일에 있는 것을 사용하면 됩니다."
      ]
    },
    {
      "cell_type": "markdown",
      "metadata": {
        "id": "tE_JoMYbYL0R"
      },
      "source": [
        "- 구글 드라이브 마운트 해주기\n"
      ]
    },
    {
      "cell_type": "code",
      "metadata": {
        "id": "e--dzI7UpFkn"
      },
      "source": [
        "from google.colab import drive\n",
        "drive.mount(\"/content/drive/\")\n",
        "# 코드 실행 후 뜨는 인터넷 창에서 로그인하고 코드 복사해서 아래의 공란에 붙여넣어줘야한다."
      ],
      "execution_count": null,
      "outputs": []
    },
    {
      "cell_type": "markdown",
      "metadata": {
        "id": "4aLsyGqV5Zbo"
      },
      "source": [
        "- 이미지와 라벨의 경로를 알아야한다. -> 경로를 전달해서 훈련할 때 사용해야한다."
      ]
    },
    {
      "cell_type": "code",
      "metadata": {
        "id": "wAWwprkTprQz"
      },
      "source": [
        "from glob import glob\n",
        "img_path = \"이미지 폴더 경로\"+\"/*\"\n",
        "annotation_path = \"라벨 폴더 경로\"+\"/*\"\n",
        "\n",
        "img_list = glob(img_path)\n",
        "anno_list = glob(annotation_path)\n",
        "print(len(img_list))\n",
        "print(len(anno_list))"
      ],
      "execution_count": null,
      "outputs": []
    },
    {
      "cell_type": "markdown",
      "metadata": {
        "id": "SN8w3O3cYT4A"
      },
      "source": [
        "- 코랩에 yolo v5를 가져온다."
      ]
    },
    {
      "cell_type": "code",
      "metadata": {
        "id": "-NY0XwjmtYEj"
      },
      "source": [
        "%cd /content\n",
        "!git clone https://github.com/ultralytics/yolov5.git"
      ],
      "execution_count": null,
      "outputs": []
    },
    {
      "cell_type": "markdown",
      "metadata": {
        "id": "sHeD3Qe1YZPk"
      },
      "source": [
        "- yolo v5가 필요로 하는 패키지가 requirments.txt 파일에 담겨있으니 설치하자."
      ]
    },
    {
      "cell_type": "code",
      "metadata": {
        "id": "N6_9Hg2wuS86"
      },
      "source": [
        "%cd /content/yolov5/\n",
        "!pip install -r requirements.txt"
      ],
      "execution_count": null,
      "outputs": []
    },
    {
      "cell_type": "markdown",
      "metadata": {
        "id": "Twl0lTDuYb6k"
      },
      "source": [
        "- 기본 정보. 파일들의 경로와 클래스가 data.yaml 파일에 담겨있다. yaml 파일을 열어보고 수정할게 있다면 수정해야한다.\n",
        "- 만약 data.yaml 파일을 가져올 수 없다면 메모장에다가 만들어야 한다.\n",
        "- 기본적인 form은 압축파일과 함께 첨부"
      ]
    },
    {
      "cell_type": "code",
      "metadata": {
        "id": "pnFta3mm6GPx"
      },
      "source": [
        "%cat /content/data.yaml"
      ],
      "execution_count": null,
      "outputs": []
    },
    {
      "cell_type": "markdown",
      "metadata": {
        "id": "hD5JK335YhaS"
      },
      "source": [
        "- 데이터가 한 곳에 있고 아직 훈련, 검정, 테스트 용으로 나눠져있지 않으니 나눠주자."
      ]
    },
    {
      "cell_type": "code",
      "metadata": {
        "id": "uB3OIj_X60X6"
      },
      "source": [
        "from sklearn.model_selection import train_test_split\n",
        "train_img_list, val_img_list = train_test_split( img_list, test_size = 0.1 )\n",
        "print(len(train_img_list), len(val_img_list))"
      ],
      "execution_count": null,
      "outputs": []
    },
    {
      "cell_type": "markdown",
      "metadata": {
        "id": "CCm77CjXYjqD"
      },
      "source": [
        "- txt파일 만들어주기 (훈련, 검증이미지의 경로를 넣어줄 것이다.)"
      ]
    },
    {
      "cell_type": "code",
      "metadata": {
        "id": "4E9ZFMTM_HMT"
      },
      "source": [
        "train_txt_path = \" aa\"\n",
        "train_txt_path = train_txt_path + \"/train.txt\" \n",
        "print(train_txt_path)"
      ],
      "execution_count": null,
      "outputs": []
    },
    {
      "cell_type": "code",
      "metadata": {
        "id": "8VxDEt9a7LXp"
      },
      "source": [
        "train_txt_path = \"편의를 위해서 dataset이 있는 폴더로 지정하면 편리rain_txt_path = \"편의를 위해서 dataset이 있는 폴더로 지정하면 편리.\"\n",
        "train_txt_path = train_txt_path + \"/train.txt\" \n",
        "val_txt_path = \"편의를 위해서 dataset이 있는 폴더로 지정하면 편리.\"\n",
        "vali_txt_path = train_txt_path + \"/val.txt\" \n",
        "\n",
        "with open(train_txt_path,\"w\") as f :\n",
        "    f.write(\"\\n\".join(train_img_list)+\"\\n\")\n",
        "    with open(vali_txt_path, \"w\") as f:\n",
        "        f.write(\"\\n\".join(val_img_list)+\"\\n\").\"\n",
        "train_txt_path = train_txt_path + \"/train.txt\" \n",
        "val_txt_path = \"편의를 위해서 dataset이 있는 폴더로 지정하면 편리.\"\n",
        "vali_txt_path = train_txt_path + \"/val.txt\" \n",
        "\n",
        "with open(train_txt_path,\"w\") as f :\n",
        "    f.write(\"\\n\".join(train_img_list)+\"\\n\")\n",
        "with open(vali_txt_path, \"w\") as f:\n",
        "    f.write(\"\\n\".join(val_img_list)+\"\\n\")"
      ],
      "execution_count": null,
      "outputs": []
    },
    {
      "cell_type": "markdown",
      "metadata": {
        "id": "3Hf6_ipKYlxi"
      },
      "source": [
        "- yaml 파일의 훈련, 검증 이미지의 경로를 담은 txt파일을 위치를 write\n",
        "\n",
        "    data.yaml 파일이 생성되지 않는 경우가 있다. 첨부파일을 확인해서 열어주자."
      ]
    },
    {
      "cell_type": "code",
      "metadata": {
        "id": "t-PX4-L67pKl"
      },
      "source": [
        "data_yaml_path = \"data.yaml파일의 경로 넣어주세요.\"\n",
        "import yaml\n",
        "with open(data_yaml_path, \"r\") as f :\n",
        "    data = yaml.load(f)\n",
        "print(data)\n",
        "\n",
        "data[\"train\"] = train_txt_path\n",
        "data[\"val\"] = vali_txt_path\n",
        "\n",
        "with open(data_yaml_path, \"w\") as f :\n",
        "    yaml.dump( data, f )\n",
        "print(data)"
      ],
      "execution_count": null,
      "outputs": []
    },
    {
      "cell_type": "markdown",
      "metadata": {
        "id": "h_WHvI4XYoTa"
      },
      "source": [
        "### 훈련 진행 \n",
        "-  --data 뒤에 data.yaml 파일의 경로를 입력\n",
        "-  --cfg 뒤에 yolov5의 cfg파일을 골라서 넣어주자. s,m,l,x 중에 하나일 것\n",
        "-  --weights 는 yolov5에서 다운받아 오는 것.\n",
        "-  --name 훈련을 마친 후 저장할 폴더의 이름"
      ]
    },
    {
      "cell_type": "code",
      "metadata": {
        "id": "WKaPoUYj8MvG"
      },
      "source": [
        "%cd /content/yolov5/\n",
        "\n",
        "!python train.py --img 416 --batch 16 --epochs 250 --data /content/data.yaml --cfg /content/yolov5/models/yolov5s.yaml --weights yolov5s.pt --name withAnnotation_yolov5s_results"
      ],
      "execution_count": null,
      "outputs": []
    },
    {
      "cell_type": "markdown",
      "metadata": {
        "id": "bFas5GUwYtio"
      },
      "source": [
        "### 텐서보드를 열어서 훈련한 모델의 성능을 수치적으로 알아보자.\n",
        "- --logdir 훈련을 마친 후 모델이 담겨있는 폴더의 경로를 넣어줘야한다. 폴더에 여러개의 모델이 담겨있다면 한꺼번에 그래프들을 그려준다."
      ]
    },
    {
      "cell_type": "code",
      "metadata": {
        "id": "KXKdP0faAnpQ"
      },
      "source": [
        "%load_ext tensorboard\n",
        "%tensorboard --logdir /content/yolov5/runs/train/withAnnotation_yolov5s_results"
      ],
      "execution_count": null,
      "outputs": []
    }
  ]
}