{
  "nbformat": 4,
  "nbformat_minor": 0,
  "metadata": {
    "colab": {
      "name": "4models.ipynb",
      "private_outputs": true,
      "provenance": [],
      "collapsed_sections": [],
      "authorship_tag": "ABX9TyMTD4MpHZaynSdy7PgvqvPD",
      "include_colab_link": true
    },
    "kernelspec": {
      "name": "python3",
      "display_name": "Python 3"
    },
    "language_info": {
      "name": "python"
    },
    "accelerator": "GPU"
  },
  "cells": [
    {
      "cell_type": "markdown",
      "metadata": {
        "id": "view-in-github",
        "colab_type": "text"
      },
      "source": [
        "<a href=\"https://colab.research.google.com/github/sejhig2/Project_mask_healthy/blob/main/4models.ipynb\" target=\"_parent\"><img src=\"https://colab.research.google.com/assets/colab-badge.svg\" alt=\"Open In Colab\"/></a>"
      ]
    },
    {
      "cell_type": "markdown",
      "metadata": {
        "id": "euQOeEs8_3OE"
      },
      "source": [
        "%cd \n"
      ]
    },
    {
      "cell_type": "code",
      "metadata": {
        "id": "c1aqBp90F8wl"
      },
      "source": [
        "%cd /content/"
      ],
      "execution_count": null,
      "outputs": []
    },
    {
      "cell_type": "code",
      "metadata": {
        "id": "iHbdEuX2_tdF"
      },
      "source": [
        "!curl -L \"https://public.roboflow.com/ds/73ZcgWETKB?key=zOsEKbiqhL\" > roboflow.zip; unzip roboflow.zip; rm roboflow.zip"
      ],
      "execution_count": null,
      "outputs": []
    },
    {
      "cell_type": "code",
      "metadata": {
        "id": "Me-We1gIABux"
      },
      "source": [
        "%cd /content\n",
        "! git clone https://github.com/ultralytics/yolov5.git"
      ],
      "execution_count": null,
      "outputs": []
    },
    {
      "cell_type": "code",
      "metadata": {
        "id": "QicnNLMuACzF"
      },
      "source": [
        "%cd /content/yolov5/\n",
        "!pip install -r requirements.txt"
      ],
      "execution_count": null,
      "outputs": []
    },
    {
      "cell_type": "code",
      "metadata": {
        "id": "4kAgl7SUAWCQ"
      },
      "source": [
        "%cat /content/dataset/data.yaml\n",
        "#data.yaml 이 포함하고 있는게 무엇인지 파악해야한다."
      ],
      "execution_count": null,
      "outputs": []
    },
    {
      "cell_type": "code",
      "metadata": {
        "id": "XtmK-GsZAYda"
      },
      "source": [
        "%cd /\n",
        "from glob import glob\n",
        "\n",
        "train_img_list = glob(\"/content/train/images/*.jpg\")\n",
        "print(train_img_list)\n",
        "\n",
        "val_img_list = glob(\"/content/valid/images/*.jpg\")\n",
        "print(val_img_list)\n",
        "print(len(train_img_list),len(val_img_list))"
      ],
      "execution_count": null,
      "outputs": []
    },
    {
      "cell_type": "markdown",
      "metadata": {
        "id": "niUHZOvVBYNt"
      },
      "source": [
        "yaml 파일이 중요하다. yaml 파일에는 훈련, 검증 이미지의 경로, 클래스의 개수, 이름 등이 포함되어있어야 한다.\n",
        "\n"
      ]
    },
    {
      "cell_type": "code",
      "metadata": {
        "id": "CDXTpShEBKju"
      },
      "source": [
        "with open('/content/dataset/train.txt', 'w') as f:\n",
        "  f.write('\\n'.join(train_img_list) + '\\n')\n",
        "\n",
        "with open('/content/dataset/val.txt', 'w') as f:\n",
        "  f.write('\\n'.join(val_img_list) + '\\n')"
      ],
      "execution_count": null,
      "outputs": []
    },
    {
      "cell_type": "code",
      "metadata": {
        "id": "19DbrSZ9Bh4M"
      },
      "source": [
        "# yaml 파일을 수정해야한다.\n",
        "import yaml\n",
        "with open(\"/content/dataset/data.yaml\",\"r\") as f:\n",
        "    data = yaml.load(f)\n",
        "print(data)\n",
        "# yaml에 이미지 경로를 바꿔주자.\n",
        "data[\"train\"] = \"/content/dataset/train.txt\"\n",
        "data[\"val\"] = \"/content/dataset/val.txt\"\n",
        "\n",
        "with open(\"/content/dataset/data.yaml\", \"w\") as f :\n",
        "    yaml.dump(data, f)\n",
        "print(data) # 경로가 잘 바뀌었는지 확인"
      ],
      "execution_count": null,
      "outputs": []
    },
    {
      "cell_type": "markdown",
      "metadata": {
        "id": "H4GBMmd6Cc2Q"
      },
      "source": [
        "- 훈련"
      ]
    },
    {
      "cell_type": "code",
      "metadata": {
        "id": "n8WFffXgB6Lg"
      },
      "source": [
        "# 훈련할 폴더 위치는\n",
        "%cd /content/yolov5\n",
        "!python train.py --img 416 --batch 16 --epochs 80 --data /content/dataset/data.yaml --cfg /content/yolov5/models/yolov5x.yaml --weights yolov5x.pt --name mask_yolov5x_results "
      ],
      "execution_count": null,
      "outputs": []
    },
    {
      "cell_type": "code",
      "metadata": {
        "id": "JgH48jZIDg6V"
      },
      "source": [
        "%load_ext tensorboard\n",
        "%tensorboard --logdir /content/gdrive/MyDrive/Project/total_data/train"
      ],
      "execution_count": null,
      "outputs": []
    },
    {
      "cell_type": "code",
      "metadata": {
        "id": "skc6lixtMyPc"
      },
      "source": [
        "from google.colab import drive\n",
        "drive.mount(\"/content/gdrive\")"
      ],
      "execution_count": null,
      "outputs": []
    },
    {
      "cell_type": "code",
      "metadata": {
        "id": "EXLQ-l1ce0Rh"
      },
      "source": [
        "from IPython.display import Image  \n",
        "import os\n",
        "%cd content/yolov5\n",
        "val_img_path = val_img_list[5]\n",
        "print(\"이미지 경로\",val_img_path)\n",
        "!python detect.py --weights /content/gdrive/MyDrive/Project/total_data/train/mask_yolov5s_results/weights/best.pt --img 416 --conf 0.6 --source {val_img_path}\n",
        "Image(os.path.join('/content/yolov5/inference/output', os.path.basename(val_img_path)))"
      ],
      "execution_count": null,
      "outputs": []
    },
    {
      "cell_type": "code",
      "metadata": {
        "id": "1yJcA6gDuzOz"
      },
      "source": [
        ""
      ],
      "execution_count": null,
      "outputs": []
    }
  ]
}