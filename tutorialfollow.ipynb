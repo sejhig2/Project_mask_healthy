{
  "nbformat": 4,
  "nbformat_minor": 0,
  "metadata": {
    "colab": {
      "name": "tutorialfollow.ipynb",
      "private_outputs": true,
      "provenance": [],
      "authorship_tag": "ABX9TyNYDmVfUW9mIlgDrwmdqP2p",
      "include_colab_link": true
    },
    "kernelspec": {
      "name": "python3",
      "display_name": "Python 3"
    },
    "language_info": {
      "name": "python"
    }
  },
  "cells": [
    {
      "cell_type": "markdown",
      "metadata": {
        "id": "view-in-github",
        "colab_type": "text"
      },
      "source": [
        "<a href=\"https://colab.research.google.com/github/sejhig2/Project_mask_healthy/blob/main/tutorialfollow.ipynb\" target=\"_parent\"><img src=\"https://colab.research.google.com/assets/colab-badge.svg\" alt=\"Open In Colab\"/></a>"
      ]
    },
    {
      "cell_type": "markdown",
      "metadata": {
        "id": "IQuscg0elOe_"
      },
      "source": [
        "- 구글 드라이브 마운트하기"
      ]
    },
    {
      "cell_type": "code",
      "metadata": {
        "id": "7XWEqC5skuGv"
      },
      "source": [
        "\n",
        "from google.colab import drive\n",
        "drive.mount(\"/content/gdrive\")\n"
      ],
      "execution_count": null,
      "outputs": []
    },
    {
      "cell_type": "markdown",
      "metadata": {
        "id": "45u0Mc5llRZn"
      },
      "source": [
        "- 경로 간단하 하기 content/gdrive/My\\ Drive/ 는 /mydrive 와 동일"
      ]
    },
    {
      "cell_type": "code",
      "metadata": {
        "id": "swc6BMlDlDD0"
      },
      "source": [
        "!ln -s /content/gdrive/My\\ Drive/ /mydrive"
      ],
      "execution_count": null,
      "outputs": []
    },
    {
      "cell_type": "code",
      "metadata": {
        "id": "2mEX1kSol1Ch"
      },
      "source": [
        "!ls /mydrive"
      ],
      "execution_count": null,
      "outputs": []
    },
    {
      "cell_type": "code",
      "metadata": {
        "id": "W0GcPhTLmFSu"
      },
      "source": [
        "%cd /mydrive/yolov4"
      ],
      "execution_count": null,
      "outputs": []
    },
    {
      "cell_type": "code",
      "metadata": {
        "id": "KbUehDelmNv-"
      },
      "source": [
        "%cd \"/content/darknet\"\n",
        "!git clone https://github.com/AlexeyAB/darknet"
      ],
      "execution_count": null,
      "outputs": []
    },
    {
      "cell_type": "code",
      "metadata": {
        "id": "XnZCKIEjnRSD"
      },
      "source": [
        "download(\"/content/darknet/\")"
      ],
      "execution_count": null,
      "outputs": []
    },
    {
      "cell_type": "markdown",
      "metadata": {
        "id": "HbNTJMsWsVPQ"
      },
      "source": [
        "- 압축 풀 폴더로 이동후"
      ]
    },
    {
      "cell_type": "code",
      "metadata": {
        "id": "rE3YBpRSnlBx"
      },
      "source": [
        "%cd \"/content/gdrive/MyDrive/Project/total_data\""
      ],
      "execution_count": null,
      "outputs": []
    },
    {
      "cell_type": "markdown",
      "metadata": {
        "id": "zo1FPKuSsX8I"
      },
      "source": [
        "- 준비해놓은 dataset 압축풀기"
      ]
    },
    {
      "cell_type": "code",
      "metadata": {
        "id": "t5qNu8SAozaD"
      },
      "source": [
        "!unzip -qq \"/content/gdrive/MyDrive/Project/total_data/total_data.zip\""
      ],
      "execution_count": null,
      "outputs": []
    },
    {
      "cell_type": "markdown",
      "metadata": {
        "id": "Xa57cl_c5Ggm"
      },
      "source": [
        "## darknet clone 해야한다"
      ]
    },
    {
      "cell_type": "code",
      "metadata": {
        "id": "MC646C-Po4oI"
      },
      "source": [
        "#위에서 클론해놔서 안 해도 된다\n",
        "%cd \"/content/darknet\"\n",
        "!git clone https://github.com/AlexeyAB/darknet"
      ],
      "execution_count": null,
      "outputs": []
    },
    {
      "cell_type": "code",
      "metadata": {
        "id": "MIF5dOI05TIf"
      },
      "source": [
        ""
      ],
      "execution_count": null,
      "outputs": []
    },
    {
      "cell_type": "markdown",
      "metadata": {
        "id": "A2yl78xw6BeP"
      },
      "source": [
        "### 4(a)"
      ]
    },
    {
      "cell_type": "code",
      "metadata": {
        "id": "2xFwcj6u5elA"
      },
      "source": [
        "# obj.zip = total_data.zip"
      ],
      "execution_count": null,
      "outputs": []
    },
    {
      "cell_type": "markdown",
      "metadata": {
        "id": "XZBBFQGP6DPa"
      },
      "source": [
        "### 4(b) 파라미터들이 들어있는 config 파일을 생성해야한다."
      ]
    },
    {
      "cell_type": "code",
      "metadata": {
        "id": "IrGDjC6y_K1j"
      },
      "source": [
        "# yolov4.cfg 파일 사용하자  경로 : \"/content/darknet/darknet/cfg/yolov4.cfg\""
      ],
      "execution_count": null,
      "outputs": []
    },
    {
      "cell_type": "markdown",
      "metadata": {
        "id": "kqJ2jvh06QEt"
      },
      "source": [
        "### 4(c) obj.data, obj.names 파일 만들기"
      ]
    },
    {
      "cell_type": "markdown",
      "metadata": {
        "id": "yAOZo1Fq_4S9"
      },
      "source": [
        "- obj.data 파일을 만들기 위해서 train, val data 나눠야한다\n",
        "- obj.data 파일에 들어갈, 훈련, 검증 사진의 경로가 들어있는 txt 파일을 만들어 줘야한다."
      ]
    },
    {
      "cell_type": "markdown",
      "metadata": {
        "id": "5WMLChVolnhq"
      },
      "source": [
        ""
      ]
    },
    {
      "cell_type": "code",
      "metadata": {
        "id": "CuDXjYae6Eay"
      },
      "source": [
        "# 이미지 파일 불러오기\n",
        "from glob import glob\n",
        "img_list = glob(\"/content/gdrive/MyDrive/Project/total_data/*.jpg\")\n",
        "print(\"이미지의 개수: \",len(img_list))"
      ],
      "execution_count": null,
      "outputs": []
    },
    {
      "cell_type": "code",
      "metadata": {
        "id": "lNVGzBCXA7Ks"
      },
      "source": [
        "# train , validation 파일 나누기\n",
        "from sklearn.model_selection import train_test_split\n",
        "train_img_list , val_img_list = train_test_split( img_list, test_size = 0.2)\n",
        "print(len(train_img_list))\n",
        "print(train_img_list)\n",
        "print(len(val_img_list))"
      ],
      "execution_count": null,
      "outputs": []
    },
    {
      "cell_type": "code",
      "metadata": {
        "id": "hu7c0SxjCWz1"
      },
      "source": [
        " with open(\"/content/gdrive/MyDrive/Project/total_data/train.txt\",\"w\") as f :\n",
        "     f.write(\"\\n\".join(train_img_list)+\"\\n\")\n",
        " with open(\"/content/gdrive/MyDrive/Project/total_data/test.txt\",\"w\") as f :\n",
        "     f.write(\"\\n\".join(val_img_list)+\"\\n\")"
      ],
      "execution_count": null,
      "outputs": []
    },
    {
      "cell_type": "markdown",
      "metadata": {
        "id": "rhhOJrUMnJDr"
      },
      "source": [
        "- obj.data 파일을 만든다"
      ]
    },
    {
      "cell_type": "code",
      "metadata": {
        "id": "834r_-QDlgvE"
      },
      "source": [
        "with open(\"/content/gdrive/MyDrive/Project/total_data/obj.data\",\"w\") as f:\n",
        "    f.write(\"classes = 2\\n\"+\n",
        "            \"train = /content/gdrive/MyDrive/Project/total_data/train.txt\\n\"+\n",
        "            \"valid = /content/gdrive/MyDrive/Project/total_data/val.txt\\n\"+\n",
        "            \"names = /content/gdrive/MyDrive/Project/total_data/obj.names\\n\"+\n",
        "            \"backup = /content/gdrive/MyDrive/Project/total_data\")"
      ],
      "execution_count": null,
      "outputs": []
    },
    {
      "cell_type": "markdown",
      "metadata": {
        "id": "lRY0I0kAnRgH"
      },
      "source": [
        "### 4(d) process.py "
      ]
    },
    {
      "cell_type": "markdown",
      "metadata": {
        "id": "HY4utzEFoUNn"
      },
      "source": [
        "##5) Make changes in the makefile to enable OPENCV and GPU"
      ]
    },
    {
      "cell_type": "code",
      "metadata": {
        "id": "cmOsuRyXmlAY"
      },
      "source": [
        "# change makefile to have GPU and OPENCV enabled\n",
        "# also set CUDNN, CUDNN_HALF and LIBSO to 1\n",
        "\n",
        "%cd darknet/\n",
        "!sed -i 's/OPENCV=0/OPENCV=1/' Makefile\n",
        "!sed -i 's/GPU=0/GPU=1/' Makefile\n",
        "!sed -i 's/CUDNN=0/CUDNN=1/' Makefile\n",
        "!sed -i 's/CUDNN_HALF=0/CUDNN_HALF=1/' Makefile\n",
        "!sed -i 's/LIBSO=0/LIBSO=1/' Makefile"
      ],
      "execution_count": null,
      "outputs": []
    },
    {
      "cell_type": "markdown",
      "metadata": {
        "id": "N075H2fSoWjc"
      },
      "source": [
        "##6) Run make command to build darknet"
      ]
    },
    {
      "cell_type": "code",
      "metadata": {
        "id": "a-hCcuC7oPqr"
      },
      "source": [
        "# build darknet \n",
        "!make"
      ],
      "execution_count": null,
      "outputs": []
    },
    {
      "cell_type": "code",
      "metadata": {
        "id": "pnyyOe-ZoYJe"
      },
      "source": [
        ""
      ],
      "execution_count": null,
      "outputs": []
    }
  ]
}