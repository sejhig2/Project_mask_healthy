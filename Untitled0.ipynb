{
  "nbformat": 4,
  "nbformat_minor": 0,
  "metadata": {
    "colab": {
      "name": "Untitled0.ipynb",
      "private_outputs": true,
      "provenance": [],
      "collapsed_sections": [],
      "authorship_tag": "ABX9TyOTHz2vtLlZ4/OQxV2Frpdj",
      "include_colab_link": true
    },
    "kernelspec": {
      "name": "python3",
      "display_name": "Python 3"
    },
    "accelerator": "GPU"
  },
  "cells": [
    {
      "cell_type": "markdown",
      "metadata": {
        "id": "view-in-github",
        "colab_type": "text"
      },
      "source": [
        "<a href=\"https://colab.research.google.com/github/sejhig2/Project_mask_healthy/blob/main/Untitled0.ipynb\" target=\"_parent\"><img src=\"https://colab.research.google.com/assets/colab-badge.svg\" alt=\"Open In Colab\"/></a>"
      ]
    },
    {
      "cell_type": "code",
      "metadata": {
        "id": "uPlZzUE17Q16"
      },
      "source": [
        "!curl -L \"https://app.roboflow.com/ds/zyd4yFWMBh?key=dmG7PLGZPj\" > roboflow.zip; unzip roboflow.zip; rm roboflow.zip"
      ],
      "execution_count": null,
      "outputs": []
    },
    {
      "cell_type": "code",
      "metadata": {
        "id": "bs3lund87UeR"
      },
      "source": [
        "%cd /content\r\n",
        "!git clone https://github.com/ultralytics/yolov5.git"
      ],
      "execution_count": null,
      "outputs": []
    },
    {
      "cell_type": "code",
      "metadata": {
        "id": "nC0lz6Uz7e-4"
      },
      "source": [
        "# 필요한 패키지 설치\r\n",
        "%cd /content/yolov5/\r\n",
        "!pip install -r requirements.txt"
      ],
      "execution_count": null,
      "outputs": []
    },
    {
      "cell_type": "code",
      "metadata": {
        "id": "stqLms1S7gwx"
      },
      "source": [
        "# 파일 내용 확인\r\n",
        "%cat /content/dataset/data.yaml"
      ],
      "execution_count": null,
      "outputs": []
    },
    {
      "cell_type": "code",
      "metadata": {
        "id": "c6xwvFzb7mul"
      },
      "source": [
        "%cd /\r\n",
        "from glob import glob\r\n",
        "\r\n",
        "train_img_list = glob(\"/content/dataset/train/images/*.jpg\")\r\n",
        "val_img_list = glob(\"/content/dataset/valid/images/*.jpg\")\r\n",
        "test_img_list = glob(\"/content/dataset/test/images/*.jpg\")\r\n",
        "\r\n",
        "print(train_img_list)"
      ],
      "execution_count": null,
      "outputs": []
    },
    {
      "cell_type": "code",
      "metadata": {
        "id": "0ZWLZdXI8U3l"
      },
      "source": [
        "with open('/content/dataset/train.txt', 'w') as f:\r\n",
        "  f.write('\\n'.join(train_img_list) + '\\n')\r\n",
        "\r\n",
        "with open('/content/dataset/val.txt', 'w') as f:\r\n",
        "  f.write('\\n'.join(val_img_list) + '\\n')"
      ],
      "execution_count": null,
      "outputs": []
    },
    {
      "cell_type": "code",
      "metadata": {
        "id": "m6UudrLn9FlI"
      },
      "source": [
        "import yaml\r\n",
        "\r\n",
        "with open('/content/dataset/data.yaml', 'r') as f:\r\n",
        "  data = yaml.load(f)\r\n",
        "\r\n",
        "print(data)\r\n",
        "\r\n",
        "#yaml 파일에 있는 2가지 경로가 있는데 그 2가지를 각각 하나로 나눠주는 거야\r\n",
        "data['train'] = '/content/dataset/train.txt'\r\n",
        "data['val'] = '/content/dataset/val.txt'\r\n",
        "\r\n",
        "with open('/content/dataset/data.yaml', 'w') as f:\r\n",
        "  yaml.dump(data, f)\r\n",
        "\r\n",
        "print(data)"
      ],
      "execution_count": null,
      "outputs": []
    },
    {
      "cell_type": "code",
      "metadata": {
        "id": "-INRqncc9dNm"
      },
      "source": [
        "%cd /content/yolov5/\r\n",
        "\r\n",
        "!python train.py --img 416 --batch 16 --epochs 100 --data /content/dataset/data.yaml --cfg ./models/yolov5s.yaml --weights yolov5s.pt --name gun_yolov5s_results"
      ],
      "execution_count": null,
      "outputs": []
    },
    {
      "cell_type": "code",
      "metadata": {
        "id": "JXU8nuea-AsM"
      },
      "source": [
        "%load_ext tensorboard\r\n",
        "%tensorboard --logdir /content/yolov5/runs/"
      ],
      "execution_count": null,
      "outputs": []
    },
    {
      "cell_type": "code",
      "metadata": {
        "id": "Z1wqcgc6DlbH"
      },
      "source": [
        "print(len(train_img_list))"
      ],
      "execution_count": null,
      "outputs": []
    }
  ]
}