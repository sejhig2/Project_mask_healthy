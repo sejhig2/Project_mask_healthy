{
  "nbformat": 4,
  "nbformat_minor": 0,
  "metadata": {
    "colab": {
      "name": "makeModel_withAnnotation.ipynb",
      "private_outputs": true,
      "provenance": [],
      "authorship_tag": "ABX9TyObVpo+t0ToBSd7Dx6ANh5b",
      "include_colab_link": true
    },
    "kernelspec": {
      "name": "python3",
      "display_name": "Python 3"
    },
    "language_info": {
      "name": "python"
    },
    "accelerator": "GPU"
  },
  "cells": [
    {
      "cell_type": "markdown",
      "metadata": {
        "id": "view-in-github",
        "colab_type": "text"
      },
      "source": [
        "<a href=\"https://colab.research.google.com/github/sejhig2/Project_mask_healthy/blob/main/makeModel_withAnnotation.ipynb\" target=\"_parent\"><img src=\"https://colab.research.google.com/assets/colab-badge.svg\" alt=\"Open In Colab\"/></a>"
      ]
    },
    {
      "cell_type": "code",
      "metadata": {
        "id": "e--dzI7UpFkn"
      },
      "source": [
        "# 구글 드라이브 마운트 해주기\n",
        "from google.colab import drive\n",
        "drive.mount(\"/content/drive/\")\n",
        "# 코드 실행 후 뜨는 인터넷 창에서 로그인하고 코드 복사해서 아래의 공란에 붙여넣어줘야한다."
      ],
      "execution_count": null,
      "outputs": []
    },
    {
      "cell_type": "markdown",
      "metadata": {
        "id": "4aLsyGqV5Zbo"
      },
      "source": [
        ""
      ]
    },
    {
      "cell_type": "code",
      "metadata": {
        "id": "wAWwprkTprQz"
      },
      "source": [
        "# 이미지와 라벨의 경로를 알아야한다. -> 경로를 전달해서 훈련할 때 사용해야한다.\n",
        "from glob import glob\n",
        "img_path = \"이미지 폴더 경로\"+\"/*\"\n",
        "annotation_path = \"라벨 폴더 경로\"+\"/*\"\n",
        "\n",
        "img_list = glob(img_path)\n",
        "anno_list = glob(annotation_path)\n",
        "print(len(img_list))\n",
        "print(len(anno_list))"
      ],
      "execution_count": null,
      "outputs": []
    },
    {
      "cell_type": "code",
      "metadata": {
        "id": "-NY0XwjmtYEj"
      },
      "source": [
        "# 코랩에 yolo v5를 가져온다.\n",
        "%cd /content\n",
        "!git clone https://github.com/ultralytics/yolov5.git"
      ],
      "execution_count": null,
      "outputs": []
    },
    {
      "cell_type": "code",
      "metadata": {
        "id": "N6_9Hg2wuS86"
      },
      "source": [
        "# yolo v5가 필요로 하는 패키지가 requirments.txt 파일에 담겨있으니 설치하자.\n",
        "%cd /content/yolov5/\n",
        "!pip install -r requirements.txt"
      ],
      "execution_count": null,
      "outputs": []
    },
    {
      "cell_type": "code",
      "metadata": {
        "id": "pnFta3mm6GPx"
      },
      "source": [
        "# 기본 정보. 파일들의 경로와 클래스가 data.yaml 파일에 담겨있다. yaml 파일을 열어보고 수정할게 있다면 수정해야한다.\n",
        "%cat /content/data.yaml"
      ],
      "execution_count": null,
      "outputs": []
    },
    {
      "cell_type": "code",
      "metadata": {
        "id": "uB3OIj_X60X6"
      },
      "source": [
        "# 데이터가 한 곳에 있고 아직 훈련, 검정, 테스트 용으로 나눠져있지 않으니 나눠주자.\n",
        "from sklearn.model_selection import train_test_split\n",
        "train_img_list, val_img_list = train_test_split( img_list, test_size = 0.1 )\n",
        "print(len(train_img_list), len(val_img_list))"
      ],
      "execution_count": null,
      "outputs": []
    },
    {
      "cell_type": "code",
      "metadata": {
        "id": "8VxDEt9a7LXp"
      },
      "source": [
        "# txt파일 만들어주기 (훈련, 검증이미지의 경로를 넣어줄 것이다.)\n",
        "with open(\"/content/drive/MyDrive/Project_mask/Data_Augmentation/train.txt\",\"w\") as f :\n",
        "    f.write(\"\\n\".join(train_img_list)+\"\\n\")\n",
        "with open(\"/content/drive/MyDrive/Project_mask/Data_Augmentation/val.txt\", \"w\") as f:\n",
        "    f.write(\"\\n\".join(val_img_list)+\"\\n\")"
      ],
      "execution_count": null,
      "outputs": []
    },
    {
      "cell_type": "code",
      "metadata": {
        "id": "t-PX4-L67pKl"
      },
      "source": [
        "#yaml 파일의 훈련, 검증 이미지의 경로를 담은 txt파일을 위치를 write\n",
        "import yaml\n",
        "with open(\"/content/data.yaml\", \"r\") as f :\n",
        "    data = yaml.load(f)\n",
        "print(data)\n",
        "\n",
        "data[\"train\"] = \"/content/drive/MyDrive/Project_mask/Data_Augmentation/train.txt\"\n",
        "data[\"val\"] = \"/content/drive/MyDrive/Project_mask/Data_Augmentation/val.txt\"\n",
        "\n",
        "with open(\"/content/data.yaml\", \"w\") as f :\n",
        "    yaml.dump( data, f )\n",
        "print(data)"
      ],
      "execution_count": null,
      "outputs": []
    },
    {
      "cell_type": "code",
      "metadata": {
        "id": "WKaPoUYj8MvG"
      },
      "source": [
        "# 훈련 진행 \n",
        "# --data 뒤에 data.yaml 파일의 경로를 입력\n",
        "# --cfg 뒤에 yolov5의 cfg파일을 골라서 넣어주자. s,m,l,x 중에 하나일 것\n",
        "# --weights 는 yolov5에서 다운받아 오는 것.\n",
        "# --name 훈련을 마친 후 저장할 폴더의 이름\n",
        "%cd /content/yolov5/\n",
        "\n",
        "!python train.py --img 416 --batch 16 --epochs 250 --data /content/data.yaml --cfg /content/yolov5/models/yolov5s.yaml --weights yolov5s.pt --name withAnnotation_yolov5s_results"
      ],
      "execution_count": null,
      "outputs": []
    },
    {
      "cell_type": "code",
      "metadata": {
        "id": "KXKdP0faAnpQ"
      },
      "source": [
        "# 텐서보드를 열어서 훈련한 모델의 성능을 수치적으로 알아보자.\n",
        "# --logdir 훈련을 마친 후 모델이 담겨있는 폴더의 경로를 넣어줘야한다. 폴더에 여러개의 모델이 담겨있다면 한꺼번에 그래프들을 그려준다.\n",
        "%load_ext tensorboard\n",
        "%tensorboard --logdir /content/yolov5/runs/train/withAnnotation_yolov5s_results"
      ],
      "execution_count": null,
      "outputs": []
    },
    {
      "cell_type": "code",
      "metadata": {
        "id": "V-oF2Ohdne_O"
      },
      "source": [
        ""
      ],
      "execution_count": null,
      "outputs": []
    },
    {
      "cell_type": "code",
      "metadata": {
        "id": "fzB26XfGX-ix"
      },
      "source": [
        ""
      ],
      "execution_count": null,
      "outputs": []
    }
  ]
}